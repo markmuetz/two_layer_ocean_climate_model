{
 "cells": [
  {
   "cell_type": "markdown",
   "id": "f505c148",
   "metadata": {
    "pycharm": {
     "name": "#%% md\n"
    }
   },
   "source": [
    "Two-layer ocean climate model\n",
    "========"
   ]
  },
  {
   "cell_type": "code",
   "execution_count": null,
   "id": "e06bdf73-e81d-4114-8f83-7d2d8faafd89",
   "metadata": {
    "collapsed": false,
    "jupyter": {
     "outputs_hidden": false
    },
    "pycharm": {
     "name": "#%%\n"
    }
   },
   "outputs": [],
   "source": [
    "# Import required libraries.\n",
    "import matplotlib.pyplot as plt\n",
    "import numpy as np\n",
    "\n",
    "import climate_model"
   ]
  },
  {
   "cell_type": "code",
   "execution_count": null,
   "id": "e58c7d97-5a22-4690-a65f-83d18d465bc8",
   "metadata": {
    "collapsed": false,
    "jupyter": {
     "outputs_hidden": false
    },
    "pycharm": {
     "name": "#%%\n"
    }
   },
   "outputs": [],
   "source": [
    "# Create an interactive climate model.\n",
    "# Note, the settings here will be used in subsequent cells.\n",
    "model = climate_model.ClimateModel()\n",
    "ui = climate_model.ClimateModelUI(model)\n",
    "ui.display()"
   ]
  },
  {
   "cell_type": "code",
   "execution_count": null,
   "id": "24f4a685-de68-491b-94ff-562b857c74a7",
   "metadata": {},
   "outputs": [],
   "source": [
    "# Calculate the optimal lambda value.\n",
    "# Note, this uses the values taken from the sliders for lam, d_d etc. (lam used as starting value).\n",
    "rmse, opt_lam = model.optimize_lambda(**ui.get_values())\n",
    "print(f'Optimal lambda is {opt_lam:.3f}, which gives an RMSE of {rmse:.6f}')\n",
    "\n",
    "opt_control_values = ui.get_values()\n",
    "opt_control_values['lam'] = opt_lam\n",
    "# Run model with optimal lambda, and default values of all other variables.\n",
    "model.run_model(**opt_control_values)\n",
    "model.plot()"
   ]
  },
  {
   "cell_type": "code",
   "execution_count": null,
   "id": "742d2c65",
   "metadata": {
    "collapsed": false,
    "jupyter": {
     "outputs_hidden": false
    },
    "pycharm": {
     "name": "#%%\n"
    }
   },
   "outputs": [],
   "source": [
    "# Some simple experiments with defined total forcings.\n",
    "# Note, total_forcing's first year is 1750, so index 150 corresponds to 1900.\n",
    "method = 'step'\n",
    "\n",
    "if method == 'step':\n",
    "    # Turn on forcing at 1900:\n",
    "    total_forcing = np.zeros_like(model.forcings.year.loc[1:])\n",
    "    total_forcing[150:] = 1\n",
    "elif method == 'pulse':\n",
    "    # Forcing pulse 1900-1901:\n",
    "    total_forcing = np.zeros_like(model.forcings.year.loc[1:])\n",
    "    total_forcing[150:152] = 3\n",
    "elif method == '3xCO2':\n",
    "    # 3x CO2 forcing:\n",
    "    columns = [c for c in model.forcings.columns if c != 'year']\n",
    "    forcings = model.forcings.copy()\n",
    "    forcings['co2'] *= 3\n",
    "    total_forcing = forcings.loc[1:][columns].sum(axis=1)\n",
    "else:\n",
    "    raise Exception(f'Unknown method: {method}')\n",
    "\n",
    "# Note, this uses the values taken from the sliders for lambda, d_d etc.\n",
    "model.run_model(total_forcing=total_forcing, **ui.get_values())\n",
    "model.plot(show_obs=False)"
   ]
  },
  {
   "cell_type": "code",
   "execution_count": null,
   "id": "83fe8ca2",
   "metadata": {
    "collapsed": false,
    "jupyter": {
     "outputs_hidden": false
    },
    "pycharm": {
     "name": "#%%\n"
    }
   },
   "outputs": [],
   "source": [
    "# Show results for a very simple ensemble of lambda values, from 0.4 to 1, with 5 steps.\n",
    "# Does not use values from sliders.\n",
    "fig, (ax1, ax2) = plt.subplots(2, 1)\n",
    "fig.set_size_inches((18, 8))\n",
    "for lam in np.linspace(0.4, 1, 5):\n",
    "    model.run_model(lam=lam)\n",
    "    model.plot(ax1=ax1, ax2=ax2, show_forcing=False)\n",
    "model.configure_axes([ax1, ax2])"
   ]
  },
  {
   "cell_type": "code",
   "execution_count": null,
   "id": "18474230",
   "metadata": {},
   "outputs": [],
   "source": [
    "# Show IPCC-like uncertainty range for the 5 SSP scenarios, with a given uncertainty multiplier.\n",
    "# Use the optimal lambda calculated above, using settings *when that cell was run*.\n",
    "lam_uncert = 0.2\n",
    "lam_min = opt_lam - opt_lam * lam_uncert\n",
    "lam_max = opt_lam + opt_lam * lam_uncert\n",
    "\n",
    "plt.figure(figsize=(20, 10))\n",
    "for scenario in model.scenarios:\n",
    "    new_control_values = opt_control_values.copy()\n",
    "    new_control_values['future_scenario'] = scenario\n",
    "    \n",
    "    new_control_values['lam'] = lam_min\n",
    "    model.run_model(**new_control_values)\n",
    "    dTm_min = model.dT.dTm.values.copy()\n",
    "    \n",
    "    new_control_values['lam'] = lam_max\n",
    "    model.run_model(**new_control_values)\n",
    "    dTm_max = model.dT.dTm.values.copy()\n",
    "    \n",
    "    plt.fill_between(\n",
    "        model.dT.year.values,\n",
    "        dTm_min,\n",
    "        dTm_max,\n",
    "        alpha=0.4, \n",
    "        label=f'{scenario}'\n",
    "    )\n",
    "plt.legend(loc='upper left')\n",
    "plt.xlabel('Year')\n",
    "plt.ylabel('Scenario temperature anomaly 1850-1899 baseline (K)')\n",
    "plt.xlim((2000, 2100))\n",
    "plt.ylim((0, 8));"
   ]
  },
  {
   "cell_type": "code",
   "execution_count": null,
   "id": "cb8acec7-b399-47a2-b1af-42d8bf0a72f6",
   "metadata": {},
   "outputs": [],
   "source": []
  }
 ],
 "metadata": {
  "kernelspec": {
   "display_name": "Python 3 (ipykernel)",
   "language": "python",
   "name": "python3"
  },
  "language_info": {
   "codemirror_mode": {
    "name": "ipython",
    "version": 3
   },
   "file_extension": ".py",
   "mimetype": "text/x-python",
   "name": "python",
   "nbconvert_exporter": "python",
   "pygments_lexer": "ipython3",
   "version": "3.10.4"
  }
 },
 "nbformat": 4,
 "nbformat_minor": 5
}
