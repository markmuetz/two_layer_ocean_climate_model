{
 "cells": [
  {
   "cell_type": "markdown",
   "id": "f505c148",
   "metadata": {
    "pycharm": {
     "name": "#%% md\n"
    }
   },
   "source": [
    "Two-layer ocean climate model\n",
    "========"
   ]
  },
  {
   "cell_type": "code",
   "execution_count": null,
   "id": "e06bdf73-e81d-4114-8f83-7d2d8faafd89",
   "metadata": {
    "collapsed": false,
    "jupyter": {
     "outputs_hidden": false
    },
    "pycharm": {
     "name": "#%%\n"
    }
   },
   "outputs": [],
   "source": [
    "# Import required libraries.\n",
    "import importlib\n",
    "\n",
    "import matplotlib.pyplot as plt\n",
    "import numpy as np\n",
    "\n",
    "import climate_model"
   ]
  },
  {
   "cell_type": "code",
   "execution_count": null,
   "id": "e58c7d97-5a22-4690-a65f-83d18d465bc8",
   "metadata": {
    "collapsed": false,
    "jupyter": {
     "outputs_hidden": false
    },
    "pycharm": {
     "name": "#%%\n"
    }
   },
   "outputs": [],
   "source": [
    "# Create an interactive climate model.\n",
    "importlib.reload(climate_model)\n",
    "model = climate_model.ClimateModel()\n",
    "ui = climate_model.ClimateModelUI(model)\n",
    "ui.display()"
   ]
  },
  {
   "cell_type": "code",
   "execution_count": null,
   "id": "39c54278-92fd-4363-91f6-233e07fdf15b",
   "metadata": {},
   "outputs": [],
   "source": [
    "# Calculate the optimal lambda value.\n",
    "rmse, opt_lam = model.optimize_lambda()\n",
    "print(f'Optimal lambda is {opt_lam:.3f}, which gives an RMSE of {rmse:.6f}')"
   ]
  },
  {
   "cell_type": "code",
   "execution_count": null,
   "id": "4dbd60af-4e08-4339-9127-9db69f9e6e3c",
   "metadata": {},
   "outputs": [],
   "source": [
    "# Run model with optimal lambda, and default values of all other variables.\n",
    "model.run_model(lam=opt_lam)\n",
    "model.plot()"
   ]
  },
  {
   "cell_type": "code",
   "execution_count": null,
   "id": "742d2c65",
   "metadata": {
    "collapsed": false,
    "jupyter": {
     "outputs_hidden": false
    },
    "pycharm": {
     "name": "#%%\n"
    }
   },
   "outputs": [],
   "source": [
    "# Some simple experiments with defined total forcings.\n",
    "# Note, total_forcing's first year is 1750, so index 150 corresponds to 1900.\n",
    "method = '3xCO2'\n",
    "\n",
    "if method == 'step':\n",
    "    # Turn on forcing at 1900:\n",
    "    total_forcing = np.zeros_like(model.forcings.year.loc[1:])\n",
    "    total_forcing[150:] = 1\n",
    "elif method == 'pulse':\n",
    "    # Forcing pulse 1900-1909:\n",
    "    total_forcing = np.zeros_like(model.forcings.year.loc[1:])\n",
    "    total_forcing[150:160] = 3\n",
    "elif method == '3xCO2':\n",
    "    # 3x CO2 forcing:\n",
    "    columns = [c for c in model.forcings.columns if c != 'year']\n",
    "    forcings = model.forcings.copy()\n",
    "    forcings['co2'] *= 3\n",
    "    total_forcing = forcings.loc[1:][columns].sum(axis=1)\n",
    "else:\n",
    "    raise Exception(f'Unknown method: {method}')\n",
    "\n",
    "# Note, this uses the values taken from the sliders for lambda, d_d etc.\n",
    "model.run_model(total_forcing=total_forcing, **ui.get_values())\n",
    "model.plot(show_equilibrium=False)"
   ]
  },
  {
   "cell_type": "code",
   "execution_count": null,
   "id": "83fe8ca2",
   "metadata": {
    "collapsed": false,
    "jupyter": {
     "outputs_hidden": false
    },
    "pycharm": {
     "name": "#%%\n"
    }
   },
   "outputs": [],
   "source": [
    "# Show results for a very simple ensemble of lambda values, from 0.4 to 1, with 5 steps.\n",
    "fig, (ax1, ax2) = plt.subplots(2, 1)\n",
    "fig.set_size_inches((18, 8))\n",
    "for lam in np.linspace(0.4, 1, 5):\n",
    "    model.run_model(lam=lam)\n",
    "    model.plot(ax1=ax1, ax2=ax2, show_forcing=False)\n",
    "model.base_plot(ax=ax1)"
   ]
  },
  {
   "cell_type": "code",
   "execution_count": null,
   "id": "18474230",
   "metadata": {},
   "outputs": [],
   "source": [
    "# Show IPCC-like uncertainty range for the 5 SSP scenarios, with a given uncertainty multiplier.\n",
    "# Use the optimal lambda calculated above.\n",
    "lam_uncert = 0.2\n",
    "lam_min = opt_lam - opt_lam * lam_uncert\n",
    "lam_max = opt_lam + opt_lam * lam_uncert\n",
    "\n",
    "plt.figure(figsize=(20, 10))\n",
    "for scenario in model.scenarios:\n",
    "    model.run_model(future_scenario=scenario, lam=lam_min)\n",
    "    dTm_min = model.dT.dTm.values.copy()\n",
    "    model.run_model(future_scenario=scenario, lam=lam_max)\n",
    "    dTm_max = model.dT.dTm.values.copy()\n",
    "    \n",
    "    plt.fill_between(\n",
    "        model.dT.year.values,\n",
    "        dTm_min,\n",
    "        dTm_max,\n",
    "        alpha=0.4, \n",
    "        label=f'{scenario}'\n",
    "    )\n",
    "plt.legend(loc='upper left')\n",
    "plt.xlabel('Year')\n",
    "plt.ylabel('Scenario temperature anomaly 1850-1899 baseline (K)')\n",
    "plt.xlim((2000, 2100))\n",
    "plt.ylim((0, 8));"
   ]
  },
  {
   "cell_type": "code",
   "execution_count": null,
   "id": "cb8acec7-b399-47a2-b1af-42d8bf0a72f6",
   "metadata": {},
   "outputs": [],
   "source": []
  }
 ],
 "metadata": {
  "kernelspec": {
   "display_name": "Python 3 (ipykernel)",
   "language": "python",
   "name": "python3"
  },
  "language_info": {
   "codemirror_mode": {
    "name": "ipython",
    "version": 3
   },
   "file_extension": ".py",
   "mimetype": "text/x-python",
   "name": "python",
   "nbconvert_exporter": "python",
   "pygments_lexer": "ipython3",
   "version": "3.10.4"
  }
 },
 "nbformat": 4,
 "nbformat_minor": 5
}
