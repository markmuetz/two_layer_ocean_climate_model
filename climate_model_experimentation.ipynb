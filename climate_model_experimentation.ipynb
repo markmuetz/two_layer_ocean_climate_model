{
 "cells": [
  {
   "cell_type": "markdown",
   "id": "0c39ba95-7142-46c1-a47f-deddd126a787",
   "metadata": {},
   "source": [
    "Ideas for how to implement simple two-layer climate model with interactive components\n",
    "========\n",
    "\n",
    "Useful info:\n",
    "* https://ipywidgets.readthedocs.io/en/latest/examples/Using%20Interact.html\n",
    "* (possibly) https://stackoverflow.com/questions/31911884/interactive-plots-placement-in-ipython-notebook-widget\n",
    "\n",
    "TODO: \n",
    "* Buttons to turn e.g. all anthro on/off, reset vars to defaults.\n",
    "* Display forcing as well.\n",
    "* Fit model against obs using minimization.\n",
    "* Get updated AR6 forcing data.\n",
    "* Get SSP scenario data for future.\n",
    "* Simple instructions on how to get working.\n",
    "* Why is uncertainty lacking one year (runs 1850-2015).\n",
    "* Rationalize all input data CSV files.\n",
    "* RMSE vs obs. (Values seem different to Excel)\n",
    "\n",
    "DONE: \n",
    "* **Check/compare model output with Excel.** Was using lambda=0.08 instead of 0.8.\n",
    "* **Get obs data as CSV and compare against obs.** Done, plus uncertainty.\n",
    "* **Check it works using AppsAnywhere on windows.** Works for me with no extra setup.\n",
    "* **Dropdown for SSP scenario.** UI element there but doesn't work yet.\n",
    "* **Better control layout - nice to get some sort of grid.** Layout good enough for time being.\n",
    "\n",
    "Updates:\n",
    "* 29/7/22: Initial playing. Import forcing data (exported from Excel as CSV). Implement simple model which is a copy of the Excel CLIMATE MODEL tab. Get interactive controls working with checkboxes and sliders.\n",
    "* 29/7/22: Try on AppsAnywhere. Fix problem with lambda value. Get obs data.\n",
    "* 29/7/22: Nicer layout of controls."
   ]
  },
  {
   "cell_type": "code",
   "execution_count": 9,
   "id": "b57ee79b-d4ea-4aab-9569-27bd5127b9b5",
   "metadata": {},
   "outputs": [
    {
     "data": {
      "application/vnd.jupyter.widget-view+json": {
       "model_id": "05d08e8af5414a459ace1b8c727b146c",
       "version_major": 2,
       "version_minor": 0
      },
      "text/plain": [
       "VBox(children=(Dropdown(description='Future scenaro:', layout=Layout(grid_area='widget001'), options=(None, 'S…"
      ]
     },
     "metadata": {},
     "output_type": "display_data"
    },
    {
     "data": {
      "application/vnd.jupyter.widget-view+json": {
       "model_id": "d07ea2a4b54f4b469361ba1603ab269f",
       "version_major": 2,
       "version_minor": 0
      },
      "text/plain": [
       "Output()"
      ]
     },
     "metadata": {},
     "output_type": "display_data"
    }
   ],
   "source": [
    "import climate_model\n",
    "import importlib\n",
    "importlib.reload(climate_model)\n",
    "model = climate_model.ClimateModel()\n",
    "model.display()"
   ]
  },
  {
   "cell_type": "code",
   "execution_count": null,
   "id": "1e653b21-860e-44e8-8624-7b2d37945b7f",
   "metadata": {},
   "outputs": [],
   "source": []
  }
 ],
 "metadata": {
  "kernelspec": {
   "display_name": "Python 3 (ipykernel)",
   "language": "python",
   "name": "python3"
  },
  "language_info": {
   "codemirror_mode": {
    "name": "ipython",
    "version": 3
   },
   "file_extension": ".py",
   "mimetype": "text/x-python",
   "name": "python",
   "nbconvert_exporter": "python",
   "pygments_lexer": "ipython3",
   "version": "3.10.4"
  }
 },
 "nbformat": 4,
 "nbformat_minor": 5
}
