{
 "cells": [
  {
   "cell_type": "markdown",
   "id": "0c39ba95-7142-46c1-a47f-deddd126a787",
   "metadata": {},
   "source": [
    "Ideas for how to implement simple two-layer climate model with interactive components\n",
    "========\n",
    "\n",
    "Useful info:\n",
    "* https://ipywidgets.readthedocs.io/en/latest/examples/Using%20Interact.html\n",
    "* (possibly) https://stackoverflow.com/questions/31911884/interactive-plots-placement-in-ipython-notebook-widget\n",
    "\n",
    "TODO: \n",
    "* Fit model against obs using minimization.\n",
    "* Get updated AR6 forcing data.\n",
    "* Get SSP scenario data for future.\n",
    "* Simple instructions on how to get working.\n",
    "* Why is uncertainty lacking one year (runs 1850-2015).\n",
    "* Rationalize all input data CSV files.\n",
    "* RMSE vs obs. (Values seem different to Excel)\n",
    "\n",
    "DONE: \n",
    "* **Check/compare model output with Excel.** Was using lambda=0.08 instead of 0.8.\n",
    "* **Get obs data as CSV and compare against obs.** Done, plus uncertainty.\n",
    "* **Check it works using AppsAnywhere on windows.** Works for me with no extra setup.\n",
    "* **Dropdown for SSP scenario.** UI element there but doesn't work yet.\n",
    "* **Better control layout - nice to get some sort of grid.** Layout good enough for time being.\n",
    "\n",
    "Updates:\n",
    "* 29/7/22: Initial playing. Import forcing data (exported from Excel as CSV). Implement simple model which is a copy of the Excel CLIMATE MODEL tab. Get interactive controls working with checkboxes and sliders.\n",
    "* 29/7/22: Try on AppsAnywhere. Fix problem with lambda value. Get obs data.\n",
    "* 29/7/22: Nicer layout of controls."
   ]
  },
  {
   "cell_type": "code",
   "execution_count": 1,
   "id": "b57ee79b-d4ea-4aab-9569-27bd5127b9b5",
   "metadata": {},
   "outputs": [
    {
     "data": {
      "application/vnd.jupyter.widget-view+json": {
       "model_id": "6aecaa042c564689b51a611b12ce04c3",
       "version_major": 2,
       "version_minor": 0
      },
      "text/plain": [
       "VBox(children=(Dropdown(description='Future scenaro:', options=(None, 'SSP1-1.9', 'SSP1-2.6', 'SSP2-4.5', 'SSP…"
      ]
     },
     "metadata": {},
     "output_type": "display_data"
    },
    {
     "data": {
      "application/vnd.jupyter.widget-view+json": {
       "model_id": "e9373d51857d408ba8f3e6e6e210b4dd",
       "version_major": 2,
       "version_minor": 0
      },
      "text/plain": [
       "Output()"
      ]
     },
     "metadata": {},
     "output_type": "display_data"
    }
   ],
   "source": [
    "from climate_model import ClimateModel\n",
    "cm = ClimateModel()\n",
    "cm.display_controls()"
   ]
  }
 ],
 "metadata": {
  "kernelspec": {
   "display_name": "Python 3",
   "language": "python",
   "name": "python3"
  },
  "language_info": {
   "codemirror_mode": {
    "name": "ipython",
    "version": 3
   },
   "file_extension": ".py",
   "mimetype": "text/x-python",
   "name": "python",
   "nbconvert_exporter": "python",
   "pygments_lexer": "ipython3",
   "version": "3.8.8"
  }
 },
 "nbformat": 4,
 "nbformat_minor": 5
}
