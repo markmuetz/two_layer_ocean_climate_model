{
 "cells": [
  {
   "cell_type": "markdown",
   "id": "0c39ba95-7142-46c1-a47f-deddd126a787",
   "metadata": {},
   "source": [
    "Ideas for how to implement simple two-layer climate model with interactive components\n",
    "========\n",
    "\n",
    "Useful info:\n",
    "* https://ipywidgets.readthedocs.io/en/latest/examples/Using%20Interact.html\n",
    "* (possibly) https://stackoverflow.com/questions/31911884/interactive-plots-placement-in-ipython-notebook-widget\n",
    "\n",
    "TODO: \n",
    "* Better control layout - nice to get some sort of grid.\n",
    "* Check/compare model output with Excel.\n",
    "* Get obs data as CSV and compare against obs.\n",
    "* Fit model against obs using minimization.\n",
    "* Get updated AR6 forcing data.\n",
    "* Get SSP scenario data for future.\n",
    "* Dropdown for SSP scenario.\n",
    "* Check it works using AppsAnywhere on windows.\n",
    "* Simple instructions on how to get working.\n",
    "\n",
    "Updates:\n",
    "* 29/7/22: Initial playing. Import forcing data (exported from Excel as CSV). Implement simple model which is a copy of the Excel CLIMATE MODEL tab. Get interactive controls working with checkboxes and sliders."
   ]
  },
  {
   "cell_type": "code",
   "execution_count": 1,
   "id": "b57ee79b-d4ea-4aab-9569-27bd5127b9b5",
   "metadata": {},
   "outputs": [
    {
     "data": {
      "application/vnd.jupyter.widget-view+json": {
       "model_id": "36a07eda0e0e445e887b66686d314346",
       "version_major": 2,
       "version_minor": 0
      },
      "text/plain": [
       "interactive(children=(Checkbox(value=True, description='CO2'), Checkbox(value=True, description='Other well mi…"
      ]
     },
     "metadata": {},
     "output_type": "display_data"
    }
   ],
   "source": [
    "from climate_model import ClimateModel\n",
    "cm = ClimateModel()\n",
    "cm.display_controls()"
   ]
  },
  {
   "cell_type": "markdown",
   "id": "cc5f9872-998e-4de0-a001-6a3dcb9ae494",
   "metadata": {},
   "source": [
    "Experiments below\n",
    "----------"
   ]
  },
  {
   "cell_type": "code",
   "execution_count": 1,
   "id": "ed58e6f3-e24d-4799-b676-a8561ce4c56f",
   "metadata": {},
   "outputs": [],
   "source": [
    "import matplotlib.pyplot as plt\n",
    "import numpy as np\n",
    "import pandas as pd"
   ]
  },
  {
   "cell_type": "code",
   "execution_count": 1,
   "id": "5abc4934-b212-41fc-bc0c-6c0b6d480152",
   "metadata": {},
   "outputs": [],
   "source": [
    "consts = dict(\n",
    "    lam = 0.08,  # K (W m-2)-1\n",
    "    d_m = 100,   # m\n",
    "    d_d = 900,   # m\n",
    "    K = 1e-4,    # m2 s-1\n",
    "    rho = 1000,  # kg m-3\n",
    "    c_p = 4218,  # J kg-1 K-1\n",
    "    dt = 365.2422 * 86400, # s\n",
    ")"
   ]
  },
  {
   "cell_type": "code",
   "execution_count": 15,
   "id": "ec88d4d2-214f-4c02-8172-62b594315098",
   "metadata": {},
   "outputs": [],
   "source": [
    "def update_T(dTm, dTd, dF, dt, lam, d_m, d_d, K, rho, c_p):\n",
    "    C_m = rho * c_p * d_m\n",
    "    C_d = rho * c_p * d_d\n",
    "    D = K * rho * c_p * ((dTm - dTd) / (0.5 * (d_m + d_d)))\n",
    "    dTm = dTm + dt / C_m * (dF - dTm / lam - D)\n",
    "    dTd = dTd + dt / C_d * D\n",
    "    return dTm, dTd"
   ]
  },
  {
   "cell_type": "code",
   "execution_count": 10,
   "id": "9cc53ea9-6962-4c40-992d-18a21293955d",
   "metadata": {},
   "outputs": [
    {
     "name": "stdout",
     "output_type": "stream",
     "text": [
      "31556926.080000002 0.08 100 900 0.0001 1000 4218\n",
      "0.0\n"
     ]
    },
    {
     "data": {
      "text/plain": [
       "(0.037407451493598864, 0.0)"
      ]
     },
     "execution_count": 10,
     "metadata": {},
     "output_type": "execute_result"
    }
   ],
   "source": [
    "update_T(0, 0, 0.5, **consts)"
   ]
  },
  {
   "cell_type": "code",
   "execution_count": 5,
   "id": "e6c2f3b0-800c-4e51-b7b1-00b015ab80e3",
   "metadata": {},
   "outputs": [],
   "source": [
    "forcings = pd.read_csv('forcing_data.csv')"
   ]
  },
  {
   "cell_type": "code",
   "execution_count": 6,
   "id": "ffdec493-cd7b-4e34-9940-f0dac1728f34",
   "metadata": {},
   "outputs": [
    {
     "data": {
      "text/plain": [
       "1      0.00\n",
       "2     -0.03\n",
       "3     -0.05\n",
       "4     -0.05\n",
       "5     -0.06\n",
       "       ... \n",
       "347    2.79\n",
       "348    2.79\n",
       "349    2.79\n",
       "350    2.79\n",
       "351    2.79\n",
       "Name: TOTAL, Length: 351, dtype: float64"
      ]
     },
     "execution_count": 6,
     "metadata": {},
     "output_type": "execute_result"
    }
   ],
   "source": [
    "forcings.TOTAL.loc[1:]"
   ]
  },
  {
   "cell_type": "code",
   "execution_count": 19,
   "id": "7ff3f9ec-71b2-4ca6-a770-294b81034641",
   "metadata": {},
   "outputs": [],
   "source": [
    "years = [1750]\n",
    "dT = [(0, 0)]\n",
    "for year, F in list(zip(forcings.YEAR.loc[2:], forcings.TOTAL[2:])):\n",
    "    dT.append(update_T(dT[-1][0], dT[-1][1], F, **consts))\n",
    "    years.append(year)\n",
    "dT = np.array(dT)"
   ]
  },
  {
   "cell_type": "code",
   "execution_count": 23,
   "id": "dffb255e-10c7-4662-ac7d-ff9f4bc6f316",
   "metadata": {},
   "outputs": [
    {
     "data": {
      "text/html": [
       "<div>\n",
       "<style scoped>\n",
       "    .dataframe tbody tr th:only-of-type {\n",
       "        vertical-align: middle;\n",
       "    }\n",
       "\n",
       "    .dataframe tbody tr th {\n",
       "        vertical-align: top;\n",
       "    }\n",
       "\n",
       "    .dataframe thead th {\n",
       "        text-align: right;\n",
       "    }\n",
       "</style>\n",
       "<table border=\"1\" class=\"dataframe\">\n",
       "  <thead>\n",
       "    <tr style=\"text-align: right;\">\n",
       "      <th></th>\n",
       "      <th>YEAR</th>\n",
       "      <th>CO2</th>\n",
       "      <th>Other well mixed GHGs</th>\n",
       "      <th>Trop. O3</th>\n",
       "      <th>Strat. O3</th>\n",
       "      <th>Direct Sulphate Aerosol</th>\n",
       "      <th>Aerosol-Cloud Interactions</th>\n",
       "      <th>Biomass Burning Aerosol</th>\n",
       "      <th>Black &amp; Organic Carbon Aerosol</th>\n",
       "      <th>Solar</th>\n",
       "      <th>...</th>\n",
       "      <th>Unnamed: 47</th>\n",
       "      <th>Unnamed: 48</th>\n",
       "      <th>Unnamed: 49</th>\n",
       "      <th>Unnamed: 50</th>\n",
       "      <th>Unnamed: 51</th>\n",
       "      <th>Unnamed: 52</th>\n",
       "      <th>Unnamed: 53</th>\n",
       "      <th>Unnamed: 54</th>\n",
       "      <th>Unnamed: 55</th>\n",
       "      <th>Unnamed: 56</th>\n",
       "    </tr>\n",
       "  </thead>\n",
       "  <tbody>\n",
       "    <tr>\n",
       "      <th>0</th>\n",
       "      <td>SCALING</td>\n",
       "      <td>1.00</td>\n",
       "      <td>1.00</td>\n",
       "      <td>1.00</td>\n",
       "      <td>1.00</td>\n",
       "      <td>1.00</td>\n",
       "      <td>1.00</td>\n",
       "      <td>1.00</td>\n",
       "      <td>1.00</td>\n",
       "      <td>1.00</td>\n",
       "      <td>...</td>\n",
       "      <td>NaN</td>\n",
       "      <td>NaN</td>\n",
       "      <td>NaN</td>\n",
       "      <td>NaN</td>\n",
       "      <td>NaN</td>\n",
       "      <td>NaN</td>\n",
       "      <td>NaN</td>\n",
       "      <td>NaN</td>\n",
       "      <td>NaN</td>\n",
       "      <td>NaN</td>\n",
       "    </tr>\n",
       "    <tr>\n",
       "      <th>1</th>\n",
       "      <td>1750</td>\n",
       "      <td>0.00</td>\n",
       "      <td>0.00</td>\n",
       "      <td>0.00</td>\n",
       "      <td>0.00</td>\n",
       "      <td>0.00</td>\n",
       "      <td>0.00</td>\n",
       "      <td>0.00</td>\n",
       "      <td>0.00</td>\n",
       "      <td>0.00</td>\n",
       "      <td>...</td>\n",
       "      <td>NaN</td>\n",
       "      <td>NaN</td>\n",
       "      <td>NaN</td>\n",
       "      <td>NaN</td>\n",
       "      <td>NaN</td>\n",
       "      <td>NaN</td>\n",
       "      <td>NaN</td>\n",
       "      <td>NaN</td>\n",
       "      <td>NaN</td>\n",
       "      <td>NaN</td>\n",
       "    </tr>\n",
       "    <tr>\n",
       "      <th>2</th>\n",
       "      <td>1751</td>\n",
       "      <td>-0.02</td>\n",
       "      <td>0.00</td>\n",
       "      <td>0.00</td>\n",
       "      <td>0.00</td>\n",
       "      <td>0.00</td>\n",
       "      <td>0.00</td>\n",
       "      <td>0.00</td>\n",
       "      <td>0.00</td>\n",
       "      <td>-0.01</td>\n",
       "      <td>...</td>\n",
       "      <td>NaN</td>\n",
       "      <td>NaN</td>\n",
       "      <td>NaN</td>\n",
       "      <td>NaN</td>\n",
       "      <td>NaN</td>\n",
       "      <td>NaN</td>\n",
       "      <td>NaN</td>\n",
       "      <td>NaN</td>\n",
       "      <td>NaN</td>\n",
       "      <td>NaN</td>\n",
       "    </tr>\n",
       "    <tr>\n",
       "      <th>3</th>\n",
       "      <td>1752</td>\n",
       "      <td>-0.02</td>\n",
       "      <td>0.01</td>\n",
       "      <td>0.00</td>\n",
       "      <td>0.00</td>\n",
       "      <td>0.00</td>\n",
       "      <td>0.00</td>\n",
       "      <td>0.00</td>\n",
       "      <td>0.00</td>\n",
       "      <td>-0.03</td>\n",
       "      <td>...</td>\n",
       "      <td>NaN</td>\n",
       "      <td>NaN</td>\n",
       "      <td>NaN</td>\n",
       "      <td>NaN</td>\n",
       "      <td>NaN</td>\n",
       "      <td>NaN</td>\n",
       "      <td>NaN</td>\n",
       "      <td>NaN</td>\n",
       "      <td>NaN</td>\n",
       "      <td>NaN</td>\n",
       "    </tr>\n",
       "    <tr>\n",
       "      <th>4</th>\n",
       "      <td>1753</td>\n",
       "      <td>-0.02</td>\n",
       "      <td>0.01</td>\n",
       "      <td>0.00</td>\n",
       "      <td>0.00</td>\n",
       "      <td>0.00</td>\n",
       "      <td>0.00</td>\n",
       "      <td>0.00</td>\n",
       "      <td>0.00</td>\n",
       "      <td>-0.03</td>\n",
       "      <td>...</td>\n",
       "      <td>NaN</td>\n",
       "      <td>NaN</td>\n",
       "      <td>NaN</td>\n",
       "      <td>NaN</td>\n",
       "      <td>NaN</td>\n",
       "      <td>NaN</td>\n",
       "      <td>NaN</td>\n",
       "      <td>NaN</td>\n",
       "      <td>NaN</td>\n",
       "      <td>NaN</td>\n",
       "    </tr>\n",
       "    <tr>\n",
       "      <th>...</th>\n",
       "      <td>...</td>\n",
       "      <td>...</td>\n",
       "      <td>...</td>\n",
       "      <td>...</td>\n",
       "      <td>...</td>\n",
       "      <td>...</td>\n",
       "      <td>...</td>\n",
       "      <td>...</td>\n",
       "      <td>...</td>\n",
       "      <td>...</td>\n",
       "      <td>...</td>\n",
       "      <td>...</td>\n",
       "      <td>...</td>\n",
       "      <td>...</td>\n",
       "      <td>...</td>\n",
       "      <td>...</td>\n",
       "      <td>...</td>\n",
       "      <td>...</td>\n",
       "      <td>...</td>\n",
       "      <td>...</td>\n",
       "      <td>...</td>\n",
       "    </tr>\n",
       "    <tr>\n",
       "      <th>347</th>\n",
       "      <td>2096</td>\n",
       "      <td>1.92</td>\n",
       "      <td>1.03</td>\n",
       "      <td>0.38</td>\n",
       "      <td>-0.03</td>\n",
       "      <td>-0.36</td>\n",
       "      <td>-0.44</td>\n",
       "      <td>0.05</td>\n",
       "      <td>0.16</td>\n",
       "      <td>0.08</td>\n",
       "      <td>...</td>\n",
       "      <td>6.28</td>\n",
       "      <td>1.87</td>\n",
       "      <td>0.44</td>\n",
       "      <td>0.0</td>\n",
       "      <td>-0.09</td>\n",
       "      <td>-0.30</td>\n",
       "      <td>0.01</td>\n",
       "      <td>0.07</td>\n",
       "      <td>-0.03</td>\n",
       "      <td>0.0</td>\n",
       "    </tr>\n",
       "    <tr>\n",
       "      <th>348</th>\n",
       "      <td>2097</td>\n",
       "      <td>1.92</td>\n",
       "      <td>1.03</td>\n",
       "      <td>0.38</td>\n",
       "      <td>-0.03</td>\n",
       "      <td>-0.36</td>\n",
       "      <td>-0.44</td>\n",
       "      <td>0.05</td>\n",
       "      <td>0.16</td>\n",
       "      <td>0.08</td>\n",
       "      <td>...</td>\n",
       "      <td>6.33</td>\n",
       "      <td>1.87</td>\n",
       "      <td>0.44</td>\n",
       "      <td>0.0</td>\n",
       "      <td>-0.09</td>\n",
       "      <td>-0.30</td>\n",
       "      <td>0.01</td>\n",
       "      <td>0.07</td>\n",
       "      <td>0.02</td>\n",
       "      <td>0.0</td>\n",
       "    </tr>\n",
       "    <tr>\n",
       "      <th>349</th>\n",
       "      <td>2098</td>\n",
       "      <td>1.92</td>\n",
       "      <td>1.03</td>\n",
       "      <td>0.38</td>\n",
       "      <td>-0.03</td>\n",
       "      <td>-0.36</td>\n",
       "      <td>-0.44</td>\n",
       "      <td>0.05</td>\n",
       "      <td>0.16</td>\n",
       "      <td>0.08</td>\n",
       "      <td>...</td>\n",
       "      <td>6.38</td>\n",
       "      <td>1.88</td>\n",
       "      <td>0.44</td>\n",
       "      <td>0.0</td>\n",
       "      <td>-0.09</td>\n",
       "      <td>-0.30</td>\n",
       "      <td>0.01</td>\n",
       "      <td>0.07</td>\n",
       "      <td>0.09</td>\n",
       "      <td>0.0</td>\n",
       "    </tr>\n",
       "    <tr>\n",
       "      <th>350</th>\n",
       "      <td>2099</td>\n",
       "      <td>1.92</td>\n",
       "      <td>1.03</td>\n",
       "      <td>0.38</td>\n",
       "      <td>-0.03</td>\n",
       "      <td>-0.36</td>\n",
       "      <td>-0.44</td>\n",
       "      <td>0.05</td>\n",
       "      <td>0.16</td>\n",
       "      <td>0.08</td>\n",
       "      <td>...</td>\n",
       "      <td>6.44</td>\n",
       "      <td>1.89</td>\n",
       "      <td>0.44</td>\n",
       "      <td>0.0</td>\n",
       "      <td>-0.09</td>\n",
       "      <td>-0.30</td>\n",
       "      <td>0.01</td>\n",
       "      <td>0.07</td>\n",
       "      <td>0.13</td>\n",
       "      <td>0.0</td>\n",
       "    </tr>\n",
       "    <tr>\n",
       "      <th>351</th>\n",
       "      <td>2100</td>\n",
       "      <td>1.92</td>\n",
       "      <td>1.03</td>\n",
       "      <td>0.38</td>\n",
       "      <td>-0.03</td>\n",
       "      <td>-0.36</td>\n",
       "      <td>-0.44</td>\n",
       "      <td>0.05</td>\n",
       "      <td>0.16</td>\n",
       "      <td>0.08</td>\n",
       "      <td>...</td>\n",
       "      <td>6.49</td>\n",
       "      <td>1.89</td>\n",
       "      <td>0.44</td>\n",
       "      <td>0.0</td>\n",
       "      <td>-0.09</td>\n",
       "      <td>-0.30</td>\n",
       "      <td>0.01</td>\n",
       "      <td>0.07</td>\n",
       "      <td>0.14</td>\n",
       "      <td>0.0</td>\n",
       "    </tr>\n",
       "  </tbody>\n",
       "</table>\n",
       "<p>352 rows × 57 columns</p>\n",
       "</div>"
      ],
      "text/plain": [
       "        YEAR   CO2  Other well mixed GHGs  Trop. O3  Strat. O3  \\\n",
       "0    SCALING  1.00                   1.00      1.00       1.00   \n",
       "1       1750  0.00                   0.00      0.00       0.00   \n",
       "2       1751 -0.02                   0.00      0.00       0.00   \n",
       "3       1752 -0.02                   0.01      0.00       0.00   \n",
       "4       1753 -0.02                   0.01      0.00       0.00   \n",
       "..       ...   ...                    ...       ...        ...   \n",
       "347     2096  1.92                   1.03      0.38      -0.03   \n",
       "348     2097  1.92                   1.03      0.38      -0.03   \n",
       "349     2098  1.92                   1.03      0.38      -0.03   \n",
       "350     2099  1.92                   1.03      0.38      -0.03   \n",
       "351     2100  1.92                   1.03      0.38      -0.03   \n",
       "\n",
       "     Direct Sulphate Aerosol  Aerosol-Cloud Interactions  \\\n",
       "0                       1.00                        1.00   \n",
       "1                       0.00                        0.00   \n",
       "2                       0.00                        0.00   \n",
       "3                       0.00                        0.00   \n",
       "4                       0.00                        0.00   \n",
       "..                       ...                         ...   \n",
       "347                    -0.36                       -0.44   \n",
       "348                    -0.36                       -0.44   \n",
       "349                    -0.36                       -0.44   \n",
       "350                    -0.36                       -0.44   \n",
       "351                    -0.36                       -0.44   \n",
       "\n",
       "     Biomass Burning Aerosol  Black & Organic Carbon Aerosol  Solar  ...  \\\n",
       "0                       1.00                            1.00   1.00  ...   \n",
       "1                       0.00                            0.00   0.00  ...   \n",
       "2                       0.00                            0.00  -0.01  ...   \n",
       "3                       0.00                            0.00  -0.03  ...   \n",
       "4                       0.00                            0.00  -0.03  ...   \n",
       "..                       ...                             ...    ...  ...   \n",
       "347                     0.05                            0.16   0.08  ...   \n",
       "348                     0.05                            0.16   0.08  ...   \n",
       "349                     0.05                            0.16   0.08  ...   \n",
       "350                     0.05                            0.16   0.08  ...   \n",
       "351                     0.05                            0.16   0.08  ...   \n",
       "\n",
       "     Unnamed: 47  Unnamed: 48  Unnamed: 49  Unnamed: 50  Unnamed: 51  \\\n",
       "0            NaN          NaN          NaN          NaN          NaN   \n",
       "1            NaN          NaN          NaN          NaN          NaN   \n",
       "2            NaN          NaN          NaN          NaN          NaN   \n",
       "3            NaN          NaN          NaN          NaN          NaN   \n",
       "4            NaN          NaN          NaN          NaN          NaN   \n",
       "..           ...          ...          ...          ...          ...   \n",
       "347         6.28         1.87         0.44          0.0        -0.09   \n",
       "348         6.33         1.87         0.44          0.0        -0.09   \n",
       "349         6.38         1.88         0.44          0.0        -0.09   \n",
       "350         6.44         1.89         0.44          0.0        -0.09   \n",
       "351         6.49         1.89         0.44          0.0        -0.09   \n",
       "\n",
       "     Unnamed: 52  Unnamed: 53  Unnamed: 54  Unnamed: 55 Unnamed: 56  \n",
       "0            NaN          NaN          NaN          NaN         NaN  \n",
       "1            NaN          NaN          NaN          NaN         NaN  \n",
       "2            NaN          NaN          NaN          NaN         NaN  \n",
       "3            NaN          NaN          NaN          NaN         NaN  \n",
       "4            NaN          NaN          NaN          NaN         NaN  \n",
       "..           ...          ...          ...          ...         ...  \n",
       "347       -0.30          0.01         0.07        -0.03         0.0  \n",
       "348       -0.30          0.01         0.07         0.02         0.0  \n",
       "349       -0.30          0.01         0.07         0.09         0.0  \n",
       "350       -0.30          0.01         0.07         0.13         0.0  \n",
       "351       -0.30          0.01         0.07         0.14         0.0  \n",
       "\n",
       "[352 rows x 57 columns]"
      ]
     },
     "execution_count": 23,
     "metadata": {},
     "output_type": "execute_result"
    }
   ],
   "source": [
    "forcings"
   ]
  },
  {
   "cell_type": "code",
   "execution_count": 22,
   "id": "485493d8-f115-4b6d-b029-422f547a2742",
   "metadata": {},
   "outputs": [
    {
     "data": {
      "text/plain": [
       "[<matplotlib.lines.Line2D at 0x7ff7b9038d90>]"
      ]
     },
     "execution_count": 22,
     "metadata": {},
     "output_type": "execute_result"
    },
    {
     "data": {
      "image/png": "[encoded data removed]",
      "text/plain": [
       "<Figure size 432x288 with 1 Axes>"
      ]
     },
     "metadata": {
      "needs_background": "light"
     },
     "output_type": "display_data"
    }
   ],
   "source": [
    "plt.plot(years, dT[:, 0])\n",
    "plt.plot(years, dT[:, 1])"
   ]
  },
  {
   "cell_type": "code",
   "execution_count": 24,
   "id": "81a39981-8236-448d-9b7c-7177f8eaaded",
   "metadata": {},
   "outputs": [],
   "source": [
    "import ipywidgets as widgets"
   ]
  },
  {
   "cell_type": "code",
   "execution_count": 33,
   "id": "d602112d-15b7-4de8-b83b-558391b8ace0",
   "metadata": {},
   "outputs": [
    {
     "data": {
      "application/vnd.jupyter.widget-view+json": {
       "model_id": "30c61a6aabce4f8c84a6601bff7bb9e3",
       "version_major": 2,
       "version_minor": 0
      },
      "text/plain": [
       "Box(children=(Checkbox(value=False, description='Check me', indent=False), Checkbox(value=False, description='…"
      ]
     },
     "metadata": {},
     "output_type": "display_data"
    }
   ],
   "source": [
    "cb1 = widgets.Checkbox(\n",
    "    value=False,\n",
    "    description='Check me',\n",
    "    disabled=False,\n",
    "    indent=False\n",
    ")\n",
    "cb2 = widgets.Checkbox(\n",
    "    value=False,\n",
    "    description='Check me 2',\n",
    "    disabled=False,\n",
    "    indent=False\n",
    ")\n",
    "\n",
    "widgets.Box(children=[cb1, cb2])"
   ]
  },
  {
   "cell_type": "code",
   "execution_count": 35,
   "id": "6010ffd7-0178-45e8-a201-dcb8983f20c4",
   "metadata": {},
   "outputs": [
    {
     "name": "stdout",
     "output_type": "stream",
     "text": [
      "True\n"
     ]
    }
   ],
   "source": [
    "print(cb1.value)"
   ]
  },
  {
   "cell_type": "code",
   "execution_count": 29,
   "id": "bc23c969-9f36-4db0-8f92-be9563523b9e",
   "metadata": {},
   "outputs": [],
   "source": [
    "from tests import box1"
   ]
  },
  {
   "cell_type": "code",
   "execution_count": 30,
   "id": "d3ad46dd-ab19-49a2-bea3-b8af3c19283c",
   "metadata": {},
   "outputs": [
    {
     "data": {
      "application/vnd.jupyter.widget-view+json": {
       "model_id": "840268219d0949cc89537f0a8c87f1de",
       "version_major": 2,
       "version_minor": 0
      },
      "text/plain": [
       "Box(children=(Checkbox(value=False, description='Check me', indent=False), Checkbox(value=False, description='…"
      ]
     },
     "metadata": {},
     "output_type": "display_data"
    }
   ],
   "source": [
    "box1()"
   ]
  },
  {
   "cell_type": "code",
   "execution_count": 36,
   "id": "aa13c828-dd57-42fe-ae1d-a3ea0e7873ee",
   "metadata": {},
   "outputs": [
    {
     "data": {
      "application/vnd.jupyter.widget-view+json": {
       "model_id": "0558697c14cd492a9488534d781d68a8",
       "version_major": 2,
       "version_minor": 0
      },
      "text/plain": [
       "Button(description='Click Me!', style=ButtonStyle())"
      ]
     },
     "metadata": {},
     "output_type": "display_data"
    },
    {
     "data": {
      "application/vnd.jupyter.widget-view+json": {
       "model_id": "6f37cb05b9cb491d841ffe406a105d72",
       "version_major": 2,
       "version_minor": 0
      },
      "text/plain": [
       "Output()"
      ]
     },
     "metadata": {},
     "output_type": "display_data"
    }
   ],
   "source": [
    "from IPython.display import display\n",
    "button = widgets.Button(description=\"Click Me!\")\n",
    "output = widgets.Output()\n",
    "\n",
    "display(button, output)\n",
    "\n",
    "def on_button_clicked(b):\n",
    "    with output:\n",
    "        print(\"Button clicked.\")\n",
    "\n",
    "button.on_click(on_button_clicked)\n",
    "\n"
   ]
  },
  {
   "cell_type": "code",
   "execution_count": 42,
   "id": "239bbfd7-24a3-432d-ac53-62eb5d85e547",
   "metadata": {},
   "outputs": [],
   "source": [
    "from ipywidgets import interact, interactive, fixed, interact_manual"
   ]
  },
  {
   "cell_type": "code",
   "execution_count": 48,
   "id": "ea1cc9cc-21de-42ca-82f5-e86249c35369",
   "metadata": {},
   "outputs": [],
   "source": [
    "def f(x):\n",
    "    print(x)\n",
    "    plt.plot(np.arange(x)**2)"
   ]
  },
  {
   "cell_type": "code",
   "execution_count": 50,
   "id": "7a1c4b93-beeb-45d4-8889-213f6570b446",
   "metadata": {},
   "outputs": [
    {
     "ename": "ValueError",
     "evalue": "Box(children=(IntSlider(value=10, max=30, min=1),)) cannot be transformed to a widget",
     "output_type": "error",
     "traceback": [
      "\u001b[0;31m---------------------------------------------------------------------------\u001b[0m",
      "\u001b[0;31mValueError\u001b[0m                                Traceback (most recent call last)",
      "Input \u001b[0;32mIn [50]\u001b[0m, in \u001b[0;36m<cell line: 1>\u001b[0;34m()\u001b[0m\n\u001b[0;32m----> 1\u001b[0m \u001b[43minteract\u001b[49m\u001b[43m(\u001b[49m\u001b[43mf\u001b[49m\u001b[43m,\u001b[49m\u001b[43m \u001b[49m\u001b[43mx\u001b[49m\u001b[38;5;241;43m=\u001b[39;49m\u001b[43mwidgets\u001b[49m\u001b[38;5;241;43m.\u001b[39;49m\u001b[43mBox\u001b[49m\u001b[43m(\u001b[49m\u001b[43mchildren\u001b[49m\u001b[38;5;241;43m=\u001b[39;49m\u001b[43m[\u001b[49m\u001b[43mwidgets\u001b[49m\u001b[38;5;241;43m.\u001b[39;49m\u001b[43mIntSlider\u001b[49m\u001b[43m(\u001b[49m\u001b[38;5;28;43mmin\u001b[39;49m\u001b[38;5;241;43m=\u001b[39;49m\u001b[38;5;241;43m1\u001b[39;49m\u001b[43m,\u001b[49m\u001b[43m \u001b[49m\u001b[38;5;28;43mmax\u001b[39;49m\u001b[38;5;241;43m=\u001b[39;49m\u001b[38;5;241;43m30\u001b[39;49m\u001b[43m,\u001b[49m\u001b[43m \u001b[49m\u001b[43mstep\u001b[49m\u001b[38;5;241;43m=\u001b[39;49m\u001b[38;5;241;43m1\u001b[39;49m\u001b[43m,\u001b[49m\u001b[43m \u001b[49m\u001b[43mvalue\u001b[49m\u001b[38;5;241;43m=\u001b[39;49m\u001b[38;5;241;43m10\u001b[39;49m\u001b[43m)\u001b[49m\u001b[43m]\u001b[49m\u001b[43m)\u001b[49m\u001b[43m)\u001b[49m\n",
      "File \u001b[0;32m~/anaconda3/envs/mcs_prime_env/lib/python3.10/site-packages/ipywidgets/widgets/interaction.py:529\u001b[0m, in \u001b[0;36m_InteractFactory.__call__\u001b[0;34m(self, _InteractFactory__interact_f, **kwargs)\u001b[0m\n\u001b[1;32m    521\u001b[0m     \u001b[38;5;28;01mreturn\u001b[39;00m \u001b[38;5;28mself\u001b[39m\n\u001b[1;32m    523\u001b[0m \u001b[38;5;66;03m# positional arg support in: https://gist.github.com/8851331\u001b[39;00m\n\u001b[1;32m    524\u001b[0m \u001b[38;5;66;03m# Handle the cases 1 and 2\u001b[39;00m\n\u001b[1;32m    525\u001b[0m \u001b[38;5;66;03m# 1. interact(f, **kwargs)\u001b[39;00m\n\u001b[1;32m    526\u001b[0m \u001b[38;5;66;03m# 2. @interact\u001b[39;00m\n\u001b[1;32m    527\u001b[0m \u001b[38;5;66;03m#    def f(*args, **kwargs):\u001b[39;00m\n\u001b[1;32m    528\u001b[0m \u001b[38;5;66;03m#        ...\u001b[39;00m\n\u001b[0;32m--> 529\u001b[0m w \u001b[38;5;241m=\u001b[39m \u001b[38;5;28;43mself\u001b[39;49m\u001b[38;5;241;43m.\u001b[39;49m\u001b[43mwidget\u001b[49m\u001b[43m(\u001b[49m\u001b[43mf\u001b[49m\u001b[43m)\u001b[49m\n\u001b[1;32m    530\u001b[0m \u001b[38;5;28;01mtry\u001b[39;00m:\n\u001b[1;32m    531\u001b[0m     f\u001b[38;5;241m.\u001b[39mwidget \u001b[38;5;241m=\u001b[39m w\n",
      "File \u001b[0;32m~/anaconda3/envs/mcs_prime_env/lib/python3.10/site-packages/ipywidgets/widgets/interaction.py:445\u001b[0m, in \u001b[0;36m_InteractFactory.widget\u001b[0;34m(self, f)\u001b[0m\n\u001b[1;32m    429\u001b[0m \u001b[38;5;28;01mdef\u001b[39;00m \u001b[38;5;21mwidget\u001b[39m(\u001b[38;5;28mself\u001b[39m, f):\n\u001b[1;32m    430\u001b[0m     \u001b[38;5;124;03m\"\"\"\u001b[39;00m\n\u001b[1;32m    431\u001b[0m \u001b[38;5;124;03m    Return an interactive function widget for the given function.\u001b[39;00m\n\u001b[1;32m    432\u001b[0m \n\u001b[0;32m   (...)\u001b[0m\n\u001b[1;32m    443\u001b[0m \u001b[38;5;124;03m        The function to which the interactive widgets are tied.\u001b[39;00m\n\u001b[1;32m    444\u001b[0m \u001b[38;5;124;03m    \"\"\"\u001b[39;00m\n\u001b[0;32m--> 445\u001b[0m     \u001b[38;5;28;01mreturn\u001b[39;00m \u001b[38;5;28;43mself\u001b[39;49m\u001b[38;5;241;43m.\u001b[39;49m\u001b[43mcls\u001b[49m\u001b[43m(\u001b[49m\u001b[43mf\u001b[49m\u001b[43m,\u001b[49m\u001b[43m \u001b[49m\u001b[38;5;28;43mself\u001b[39;49m\u001b[38;5;241;43m.\u001b[39;49m\u001b[43mopts\u001b[49m\u001b[43m,\u001b[49m\u001b[43m \u001b[49m\u001b[38;5;241;43m*\u001b[39;49m\u001b[38;5;241;43m*\u001b[39;49m\u001b[38;5;28;43mself\u001b[39;49m\u001b[38;5;241;43m.\u001b[39;49m\u001b[43mkwargs\u001b[49m\u001b[43m)\u001b[49m\n",
      "File \u001b[0;32m~/anaconda3/envs/mcs_prime_env/lib/python3.10/site-packages/ipywidgets/widgets/interaction.py:201\u001b[0m, in \u001b[0;36minteractive.__init__\u001b[0;34m(self, _interactive__interact_f, _interactive__options, **kwargs)\u001b[0m\n\u001b[1;32m    199\u001b[0m     getcallargs(f, \u001b[38;5;241m*\u001b[39m\u001b[38;5;241m*\u001b[39m{n:v \u001b[38;5;28;01mfor\u001b[39;00m n,v,_ \u001b[38;5;129;01min\u001b[39;00m new_kwargs})\n\u001b[1;32m    200\u001b[0m \u001b[38;5;66;03m# Now build the widgets from the abbreviations.\u001b[39;00m\n\u001b[0;32m--> 201\u001b[0m \u001b[38;5;28mself\u001b[39m\u001b[38;5;241m.\u001b[39mkwargs_widgets \u001b[38;5;241m=\u001b[39m \u001b[38;5;28;43mself\u001b[39;49m\u001b[38;5;241;43m.\u001b[39;49m\u001b[43mwidgets_from_abbreviations\u001b[49m\u001b[43m(\u001b[49m\u001b[43mnew_kwargs\u001b[49m\u001b[43m)\u001b[49m\n\u001b[1;32m    203\u001b[0m \u001b[38;5;66;03m# This has to be done as an assignment, not using self.children.append,\u001b[39;00m\n\u001b[1;32m    204\u001b[0m \u001b[38;5;66;03m# so that traitlets notices the update. We skip any objects (such as fixed) that\u001b[39;00m\n\u001b[1;32m    205\u001b[0m \u001b[38;5;66;03m# are not DOMWidgets.\u001b[39;00m\n\u001b[1;32m    206\u001b[0m c \u001b[38;5;241m=\u001b[39m [w \u001b[38;5;28;01mfor\u001b[39;00m w \u001b[38;5;129;01min\u001b[39;00m \u001b[38;5;28mself\u001b[39m\u001b[38;5;241m.\u001b[39mkwargs_widgets \u001b[38;5;28;01mif\u001b[39;00m \u001b[38;5;28misinstance\u001b[39m(w, DOMWidget)]\n",
      "File \u001b[0;32m~/anaconda3/envs/mcs_prime_env/lib/python3.10/site-packages/ipywidgets/widgets/interaction.py:301\u001b[0m, in \u001b[0;36minteractive.widgets_from_abbreviations\u001b[0;34m(self, seq)\u001b[0m\n\u001b[1;32m    299\u001b[0m \u001b[38;5;28;01mif\u001b[39;00m \u001b[38;5;129;01mnot\u001b[39;00m (\u001b[38;5;28misinstance\u001b[39m(widget, ValueWidget) \u001b[38;5;129;01mor\u001b[39;00m \u001b[38;5;28misinstance\u001b[39m(widget, fixed)):\n\u001b[1;32m    300\u001b[0m     \u001b[38;5;28;01mif\u001b[39;00m widget \u001b[38;5;129;01mis\u001b[39;00m \u001b[38;5;28;01mNone\u001b[39;00m:\n\u001b[0;32m--> 301\u001b[0m         \u001b[38;5;28;01mraise\u001b[39;00m \u001b[38;5;167;01mValueError\u001b[39;00m(\u001b[38;5;124m\"\u001b[39m\u001b[38;5;132;01m{!r}\u001b[39;00m\u001b[38;5;124m cannot be transformed to a widget\u001b[39m\u001b[38;5;124m\"\u001b[39m\u001b[38;5;241m.\u001b[39mformat(abbrev))\n\u001b[1;32m    302\u001b[0m     \u001b[38;5;28;01melse\u001b[39;00m:\n\u001b[1;32m    303\u001b[0m         \u001b[38;5;28;01mraise\u001b[39;00m \u001b[38;5;167;01mTypeError\u001b[39;00m(\u001b[38;5;124m\"\u001b[39m\u001b[38;5;132;01m{!r}\u001b[39;00m\u001b[38;5;124m is not a ValueWidget\u001b[39m\u001b[38;5;124m\"\u001b[39m\u001b[38;5;241m.\u001b[39mformat(widget))\n",
      "\u001b[0;31mValueError\u001b[0m: Box(children=(IntSlider(value=10, max=30, min=1),)) cannot be transformed to a widget"
     ]
    }
   ],
   "source": [
    "interact(f, x=widgets.Box(children=[widgets.IntSlider(min=1, max=30, step=1, value=10)]));"
   ]
  },
  {
   "cell_type": "code",
   "execution_count": 51,
   "id": "8e7e9a31-f126-41c1-bef0-7e92197516fa",
   "metadata": {},
   "outputs": [],
   "source": [
    "from IPython.display import display\n",
    "def f(a, b):\n",
    "    display(a + b)\n",
    "    return a+b"
   ]
  },
  {
   "cell_type": "code",
   "execution_count": 54,
   "id": "26e7f2b3-404d-4700-90f0-7a42dac7b4fa",
   "metadata": {},
   "outputs": [],
   "source": [
    "w = interactive(f, a=cb1, b=20)"
   ]
  },
  {
   "cell_type": "code",
   "execution_count": 55,
   "id": "2f46275a-6c31-4699-a303-c5f7a97b3aa7",
   "metadata": {},
   "outputs": [
    {
     "data": {
      "application/vnd.jupyter.widget-view+json": {
       "model_id": "ed4de5547e4f49aa9ec1f8b7deba2af9",
       "version_major": 2,
       "version_minor": 0
      },
      "text/plain": [
       "interactive(children=(Checkbox(value=True, description='Check me', indent=False), IntSlider(value=20, descript…"
      ]
     },
     "metadata": {},
     "output_type": "display_data"
    }
   ],
   "source": [
    "display(w)"
   ]
  },
  {
   "cell_type": "code",
   "execution_count": 7,
   "id": "c2fef95b-51fa-4228-b5af-185f72944658",
   "metadata": {},
   "outputs": [
    {
     "data": {
      "text/plain": [
       "{'lam': 0.08,\n",
       " 'd_m': 100,\n",
       " 'd_d': 900,\n",
       " 'K': 0.0001,\n",
       " 'rho': 1000,\n",
       " 'c_p': 4218,\n",
       " 'dt': 31556926.080000002}"
      ]
     },
     "execution_count": 7,
     "metadata": {},
     "output_type": "execute_result"
    }
   ],
   "source": [
    "consts"
   ]
  },
  {
   "cell_type": "code",
   "execution_count": 2,
   "id": "3b2bdb23-c141-4d02-959c-a598000be0b6",
   "metadata": {},
   "outputs": [
    {
     "ename": "NameError",
     "evalue": "name 'cm' is not defined",
     "output_type": "error",
     "traceback": [
      "\u001b[0;31m---------------------------------------------------------------------------\u001b[0m",
      "\u001b[0;31mNameError\u001b[0m                                 Traceback (most recent call last)",
      "Input \u001b[0;32mIn [2]\u001b[0m, in \u001b[0;36m<cell line: 1>\u001b[0;34m()\u001b[0m\n\u001b[0;32m----> 1\u001b[0m columns \u001b[38;5;241m=\u001b[39m \u001b[43mcm\u001b[49m\u001b[38;5;241m.\u001b[39mforcings\u001b[38;5;241m.\u001b[39mcolumns[\u001b[38;5;241m1\u001b[39m:\u001b[38;5;241m11\u001b[39m]\u001b[38;5;241m.\u001b[39mas_list()\n",
      "\u001b[0;31mNameError\u001b[0m: name 'cm' is not defined"
     ]
    }
   ],
   "source": [
    "columns = cm.forcings.columns[1:11].as_list()"
   ]
  },
  {
   "cell_type": "code",
   "execution_count": null,
   "id": "3be5a1eb-9b5d-445c-86c6-9edf2c1917b2",
   "metadata": {},
   "outputs": [],
   "source": []
  }
 ],
 "metadata": {
  "kernelspec": {
   "display_name": "Python 3",
   "language": "python",
   "name": "python3"
  },
  "language_info": {
   "codemirror_mode": {
    "name": "ipython",
    "version": 3
   },
   "file_extension": ".py",
   "mimetype": "text/x-python",
   "name": "python",
   "nbconvert_exporter": "python",
   "pygments_lexer": "ipython3",
   "version": "3.8.8"
  }
 },
 "nbformat": 4,
 "nbformat_minor": 5
}
